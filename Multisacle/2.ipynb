{
 "cells": [
  {
   "cell_type": "code",
   "execution_count": 33,
   "metadata": {
    "collapsed": true
   },
   "outputs": [],
   "source": [
    "from firedrake import *         \n",
    "mesh = UnitSquareMesh(100, 100)"
   ]
  },
  {
   "cell_type": "code",
   "execution_count": 34,
   "metadata": {
    "collapsed": true
   },
   "outputs": [],
   "source": [
    "V = FunctionSpace(mesh, \"CG\", 1)"
   ]
  },
  {
   "cell_type": "code",
   "execution_count": 35,
   "metadata": {
    "collapsed": true
   },
   "outputs": [],
   "source": [
    "u = TrialFunction(V)\n",
    "v = TestFunction(V)"
   ]
  },
  {
   "cell_type": "code",
   "execution_count": 36,
   "metadata": {
    "collapsed": false
   },
   "outputs": [
    {
     "data": {
      "image/png": "[encoded data removed]",
      "text/latex": [
       "${w_h^34}$"
      ],
      "text/plain": [
       "Coefficient(FiniteElement('Lagrange', Domain(Coefficient(VectorElement('Lagrange', Domain(Cell('triangle', 2), label=None, data='<data with id 140170997267280>'), 1, dim=2, quad_scheme=None), 31)), 1, quad_scheme=None), 34)"
      ]
     },
     "execution_count": 36,
     "metadata": {},
     "output_type": "execute_result"
    }
   ],
   "source": [
    "f = Function(V)\n",
    "f.interpolate(Expression(\"cos(x[0])*cos(x[1])+sin(x[0])\"))"
   ]
  },
  {
   "cell_type": "code",
   "execution_count": 37,
   "metadata": {
    "collapsed": false
   },
   "outputs": [
    {
     "data": {
      "image/png": "[encoded data removed]",
      "text/latex": [
       "${w_h^35}$"
      ],
      "text/plain": [
       "Coefficient(FiniteElement('Lagrange', Domain(Coefficient(VectorElement('Lagrange', Domain(Cell('triangle', 2), label=None, data='<data with id 140170997267280>'), 1, dim=2, quad_scheme=None), 31)), 1, quad_scheme=None), 35)"
      ]
     },
     "execution_count": 37,
     "metadata": {},
     "output_type": "execute_result"
    }
   ],
   "source": [
    "c = Function(V)\n",
    "c.interpolate(Expression(\"sin(x[0])*cos(x[1])\"))"
   ]
  },
  {
   "cell_type": "code",
   "execution_count": 40,
   "metadata": {
    "collapsed": false
   },
   "outputs": [],
   "source": [
    "a = c * dot(grad(u),grad(v)) * dx\n",
    "L = f * v * dx\n"
   ]
  },
  {
   "cell_type": "code",
   "execution_count": 41,
   "metadata": {
    "collapsed": true
   },
   "outputs": [],
   "source": [
    "bc1 = DirichletBC(V, Expression((\"0.0\")), 1)\n",
    "bc2 = DirichletBC(V, Expression((\"0.0\")), 2)\n",
    "bc3 = DirichletBC(V, Expression((\"0.0\")), 3)\n",
    "bc4 = DirichletBC(V, Expression((\"0.0\")), 4)\n",
    "bcs=[bc1, bc2, bc3, bc4]"
   ]
  },
  {
   "cell_type": "code",
   "execution_count": 42,
   "metadata": {
    "collapsed": true
   },
   "outputs": [],
   "source": [
    "u = Function(V)"
   ]
  },
  {
   "cell_type": "code",
   "execution_count": 43,
   "metadata": {
    "collapsed": false
   },
   "outputs": [
    {
     "name": "stdout",
     "output_type": "stream",
     "text": [
      "Compiling form form\n",
      "\n"
     ]
    },
    {
     "name": "stderr",
     "output_type": "stream",
     "text": [
      "INFO:FFC:Compiling form form\n",
      "\n"
     ]
    },
    {
     "name": "stdout",
     "output_type": "stream",
     "text": [
      "Compiler stage 1: Analyzing form(s)\n"
     ]
    },
    {
     "name": "stderr",
     "output_type": "stream",
     "text": [
      "INFO:FFC:Compiler stage 1: Analyzing form(s)\n"
     ]
    },
    {
     "name": "stdout",
     "output_type": "stream",
     "text": [
      "-----------------------------------\n"
     ]
    },
    {
     "name": "stderr",
     "output_type": "stream",
     "text": [
      "INFO:FFC:-----------------------------------\n"
     ]
    },
    {
     "name": "stdout",
     "output_type": "stream",
     "text": [
      "  \n"
     ]
    },
    {
     "name": "stderr",
     "output_type": "stream",
     "text": [
      "INFO:FFC:  \n"
     ]
    },
    {
     "name": "stdout",
     "output_type": "stream",
     "text": [
      "  Geometric dimension:       2\n",
      "  Number of cell subdomains: 0\n",
      "  Rank:                      2\n",
      "  Arguments:                 '(v_0, v_1)'\n",
      "  Number of coefficients:    2\n",
      "  Coefficients:              '[Coordinates, function_41]'\n",
      "  Unique elements:           'CG1(?), Vector<2 x CG1(?)>'\n",
      "  Unique sub elements:       'CG1(?), Vector<2 x CG1(?)>, CG1(?)'\n",
      "  \n"
     ]
    },
    {
     "name": "stderr",
     "output_type": "stream",
     "text": [
      "INFO:FFC:  Geometric dimension:       2\n",
      "  Number of cell subdomains: 0\n",
      "  Rank:                      2\n",
      "  Arguments:                 '(v_0, v_1)'\n",
      "  Number of coefficients:    2\n",
      "  Coefficients:              '[Coordinates, function_41]'\n",
      "  Unique elements:           'CG1(?), Vector<2 x CG1(?)>'\n",
      "  Unique sub elements:       'CG1(?), Vector<2 x CG1(?)>, CG1(?)'\n",
      "  \n"
     ]
    },
    {
     "name": "stdout",
     "output_type": "stream",
     "text": [
      "  representation:    quadrature\n"
     ]
    },
    {
     "name": "stderr",
     "output_type": "stream",
     "text": [
      "INFO:FFC:  representation:    quadrature\n",
      "DEBUG:FFC:  Selecting quadrature degree based on total polynomial degree of integrand: 1\n"
     ]
    },
    {
     "name": "stdout",
     "output_type": "stream",
     "text": [
      "  quadrature_degree: auto --> 1\n"
     ]
    },
    {
     "name": "stderr",
     "output_type": "stream",
     "text": [
      "INFO:FFC:  quadrature_degree: auto --> 1\n"
     ]
    },
    {
     "name": "stdout",
     "output_type": "stream",
     "text": [
      "  quadrature_rule:   auto --> default\n"
     ]
    },
    {
     "name": "stderr",
     "output_type": "stream",
     "text": [
      "INFO:FFC:  quadrature_rule:   auto --> default\n"
     ]
    },
    {
     "name": "stdout",
     "output_type": "stream",
     "text": [
      "  \n"
     ]
    },
    {
     "name": "stderr",
     "output_type": "stream",
     "text": [
      "INFO:FFC:  \n"
     ]
    },
    {
     "name": "stdout",
     "output_type": "stream",
     "text": [
      "Compiler stage 1 finished in 0.019007 seconds.\n",
      "\n"
     ]
    },
    {
     "name": "stderr",
     "output_type": "stream",
     "text": [
      "INFO:FFC:Compiler stage 1 finished in 0.019007 seconds.\n",
      "\n"
     ]
    },
    {
     "name": "stdout",
     "output_type": "stream",
     "text": [
      "Compiler stage 2: Computing intermediate representation\n"
     ]
    },
    {
     "name": "stderr",
     "output_type": "stream",
     "text": [
      "INFO:FFC:Compiler stage 2: Computing intermediate representation\n"
     ]
    },
    {
     "name": "stdout",
     "output_type": "stream",
     "text": [
      "-------------------------------------------------------\n"
     ]
    },
    {
     "name": "stderr",
     "output_type": "stream",
     "text": [
      "INFO:FFC:-------------------------------------------------------\n"
     ]
    },
    {
     "name": "stdout",
     "output_type": "stream",
     "text": [
      "  Computing representation of integrals\n"
     ]
    },
    {
     "name": "stderr",
     "output_type": "stream",
     "text": [
      "INFO:FFC:  Computing representation of integrals\n"
     ]
    },
    {
     "name": "stdout",
     "output_type": "stream",
     "text": [
      "  Computing quadrature representation\n"
     ]
    },
    {
     "name": "stderr",
     "output_type": "stream",
     "text": [
      "INFO:FFC:  Computing quadrature representation\n",
      "DEBUG:FFC:  Reusing element from cache\n",
      "DEBUG:FFC:  Reusing element from cache\n",
      "DEBUG:FFC:  Reusing element from cache\n",
      "DEBUG:FFC:  Reusing element from cache\n",
      "DEBUG:FFC:  Reusing element from cache\n"
     ]
    },
    {
     "name": "stdout",
     "output_type": "stream",
     "text": [
      "  Transforming cell integral\n"
     ]
    },
    {
     "name": "stderr",
     "output_type": "stream",
     "text": [
      "INFO:FFC:  Transforming cell integral\n",
      "DEBUG:FFC:  Reusing element from cache\n",
      "DEBUG:FFC:  Reusing element from cache\n",
      "DEBUG:FFC:  Reusing element from cache\n",
      "DEBUG:FFC:  Reusing element from cache\n",
      "DEBUG:FFC:  Reusing element from cache\n",
      "DEBUG:FFC:  Reusing element from cache\n",
      "DEBUG:FFC:  Reusing element from cache\n",
      "DEBUG:FFC:  Reusing element from cache\n",
      "DEBUG:FFC:  Reusing element from cache\n",
      "DEBUG:FFC:  Reusing element from cache\n",
      "DEBUG:FFC:  Reusing element from cache\n",
      "DEBUG:FFC:  Reusing element from cache\n"
     ]
    },
    {
     "name": "stdout",
     "output_type": "stream",
     "text": [
      "  \n"
     ]
    },
    {
     "name": "stderr",
     "output_type": "stream",
     "text": [
      "INFO:FFC:  \n"
     ]
    },
    {
     "name": "stdout",
     "output_type": "stream",
     "text": [
      "Compiler stage 2 finished in 0.085103 seconds.\n",
      "\n"
     ]
    },
    {
     "name": "stderr",
     "output_type": "stream",
     "text": [
      "INFO:FFC:Compiler stage 2 finished in 0.085103 seconds.\n",
      "\n"
     ]
    },
    {
     "name": "stdout",
     "output_type": "stream",
     "text": [
      "Compiler stage 3: Optimizing intermediate representation\n"
     ]
    },
    {
     "name": "stderr",
     "output_type": "stream",
     "text": [
      "INFO:FFC:Compiler stage 3: Optimizing intermediate representation\n"
     ]
    },
    {
     "name": "stdout",
     "output_type": "stream",
     "text": [
      "--------------------------------------------------------\n"
     ]
    },
    {
     "name": "stderr",
     "output_type": "stream",
     "text": [
      "INFO:FFC:--------------------------------------------------------\n"
     ]
    },
    {
     "name": "stdout",
     "output_type": "stream",
     "text": [
      "  Skipping optimizations, add -O to optimize\n"
     ]
    },
    {
     "name": "stderr",
     "output_type": "stream",
     "text": [
      "INFO:FFC:  Skipping optimizations, add -O to optimize\n"
     ]
    },
    {
     "name": "stdout",
     "output_type": "stream",
     "text": [
      "  \n"
     ]
    },
    {
     "name": "stderr",
     "output_type": "stream",
     "text": [
      "INFO:FFC:  \n"
     ]
    },
    {
     "name": "stdout",
     "output_type": "stream",
     "text": [
      "Compiler stage 3 finished in 0.00511789 seconds.\n",
      "\n"
     ]
    },
    {
     "name": "stderr",
     "output_type": "stream",
     "text": [
      "INFO:FFC:Compiler stage 3 finished in 0.00511789 seconds.\n",
      "\n",
      "DEBUG:FFC:Removing unused variable: circumradius\n",
      "DEBUG:FFC:Removing unused variable: v0v1\n",
      "DEBUG:FFC:Removing unused variable: v0v2\n",
      "DEBUG:FFC:Removing unused variable: v1v2\n",
      "DEBUG:FFC:Removing unused variable: volume\n"
     ]
    },
    {
     "name": "stdout",
     "output_type": "stream",
     "text": [
      "Compiler stage 4 finished in 0.0163691 seconds.\n",
      "\n"
     ]
    },
    {
     "name": "stderr",
     "output_type": "stream",
     "text": [
      "INFO:FFC:Compiler stage 4 finished in 0.0163691 seconds.\n",
      "\n"
     ]
    },
    {
     "name": "stdout",
     "output_type": "stream",
     "text": [
      "\u001b[1;37;32mFFC finished in 0.150304 seconds.\u001b[0m\n"
     ]
    },
    {
     "name": "stderr",
     "output_type": "stream",
     "text": [
      "INFO:FFC:\u001b[1;37;32mFFC finished in 0.150304 seconds.\u001b[0m\n",
      "pyop2:INFO Solving linear variational problem...\n",
      "INFO:pyop2:Solving linear variational problem...\n"
     ]
    },
    {
     "name": "stdout",
     "output_type": "stream",
     "text": [
      "Compiling form form\n",
      "\n"
     ]
    },
    {
     "name": "stderr",
     "output_type": "stream",
     "text": [
      "INFO:FFC:Compiling form form\n",
      "\n"
     ]
    },
    {
     "name": "stdout",
     "output_type": "stream",
     "text": [
      "Compiler stage 1: Analyzing form(s)\n"
     ]
    },
    {
     "name": "stderr",
     "output_type": "stream",
     "text": [
      "INFO:FFC:Compiler stage 1: Analyzing form(s)\n"
     ]
    },
    {
     "name": "stdout",
     "output_type": "stream",
     "text": [
      "-----------------------------------\n"
     ]
    },
    {
     "name": "stderr",
     "output_type": "stream",
     "text": [
      "INFO:FFC:-----------------------------------\n"
     ]
    },
    {
     "name": "stdout",
     "output_type": "stream",
     "text": [
      "  \n"
     ]
    },
    {
     "name": "stderr",
     "output_type": "stream",
     "text": [
      "INFO:FFC:  \n"
     ]
    },
    {
     "name": "stdout",
     "output_type": "stream",
     "text": [
      "  Geometric dimension:       2\n",
      "  Number of cell subdomains: 0\n",
      "  Rank:                      1\n",
      "  Arguments:                 '(v_0)'\n",
      "  Number of coefficients:    4\n",
      "  Coefficients:              '[Coordinates, function_40, function_41, function_47]'\n",
      "  Unique elements:           'CG1(?), Vector<2 x CG1(?)>'\n",
      "  Unique sub elements:       'CG1(?), Vector<2 x CG1(?)>, CG1(?)'\n",
      "  \n"
     ]
    },
    {
     "name": "stderr",
     "output_type": "stream",
     "text": [
      "INFO:FFC:  Geometric dimension:       2\n",
      "  Number of cell subdomains: 0\n",
      "  Rank:                      1\n",
      "  Arguments:                 '(v_0)'\n",
      "  Number of coefficients:    4\n",
      "  Coefficients:              '[Coordinates, function_40, function_41, function_47]'\n",
      "  Unique elements:           'CG1(?), Vector<2 x CG1(?)>'\n",
      "  Unique sub elements:       'CG1(?), Vector<2 x CG1(?)>, CG1(?)'\n",
      "  \n"
     ]
    },
    {
     "name": "stdout",
     "output_type": "stream",
     "text": [
      "  representation:    quadrature\n"
     ]
    },
    {
     "name": "stderr",
     "output_type": "stream",
     "text": [
      "INFO:FFC:  representation:    quadrature\n",
      "DEBUG:FFC:  Selecting quadrature degree based on total polynomial degree of integrand: 2\n"
     ]
    },
    {
     "name": "stdout",
     "output_type": "stream",
     "text": [
      "  quadrature_degree: auto --> 2\n"
     ]
    },
    {
     "name": "stderr",
     "output_type": "stream",
     "text": [
      "INFO:FFC:  quadrature_degree: auto --> 2\n"
     ]
    },
    {
     "name": "stdout",
     "output_type": "stream",
     "text": [
      "  quadrature_rule:   auto --> default\n"
     ]
    },
    {
     "name": "stderr",
     "output_type": "stream",
     "text": [
      "INFO:FFC:  quadrature_rule:   auto --> default\n"
     ]
    },
    {
     "name": "stdout",
     "output_type": "stream",
     "text": [
      "  \n"
     ]
    },
    {
     "name": "stderr",
     "output_type": "stream",
     "text": [
      "INFO:FFC:  \n"
     ]
    },
    {
     "name": "stdout",
     "output_type": "stream",
     "text": [
      "Compiler stage 1 finished in 0.0178652 seconds.\n",
      "\n"
     ]
    },
    {
     "name": "stderr",
     "output_type": "stream",
     "text": [
      "INFO:FFC:Compiler stage 1 finished in 0.0178652 seconds.\n",
      "\n"
     ]
    },
    {
     "name": "stdout",
     "output_type": "stream",
     "text": [
      "Compiler stage 2: Computing intermediate representation\n"
     ]
    },
    {
     "name": "stderr",
     "output_type": "stream",
     "text": [
      "INFO:FFC:Compiler stage 2: Computing intermediate representation\n"
     ]
    },
    {
     "name": "stdout",
     "output_type": "stream",
     "text": [
      "-------------------------------------------------------\n"
     ]
    },
    {
     "name": "stderr",
     "output_type": "stream",
     "text": [
      "INFO:FFC:-------------------------------------------------------\n"
     ]
    },
    {
     "name": "stdout",
     "output_type": "stream",
     "text": [
      "  Computing representation of integrals\n"
     ]
    },
    {
     "name": "stderr",
     "output_type": "stream",
     "text": [
      "INFO:FFC:  Computing representation of integrals\n"
     ]
    },
    {
     "name": "stdout",
     "output_type": "stream",
     "text": [
      "  Computing quadrature representation\n"
     ]
    },
    {
     "name": "stderr",
     "output_type": "stream",
     "text": [
      "INFO:FFC:  Computing quadrature representation\n",
      "DEBUG:FFC:  Reusing element from cache\n",
      "DEBUG:FFC:  Reusing element from cache\n",
      "DEBUG:FFC:  Reusing element from cache\n",
      "DEBUG:FFC:  Reusing element from cache\n",
      "DEBUG:FFC:  Reusing element from cache\n"
     ]
    },
    {
     "name": "stdout",
     "output_type": "stream",
     "text": [
      "  Transforming cell integral\n"
     ]
    },
    {
     "name": "stderr",
     "output_type": "stream",
     "text": [
      "INFO:FFC:  Transforming cell integral\n",
      "DEBUG:FFC:  Reusing element from cache\n",
      "DEBUG:FFC:  Reusing element from cache\n",
      "DEBUG:FFC:  Reusing element from cache\n",
      "DEBUG:FFC:  Reusing element from cache\n",
      "DEBUG:FFC:  Reusing element from cache\n",
      "DEBUG:FFC:  Reusing element from cache\n",
      "DEBUG:FFC:  Reusing element from cache\n",
      "DEBUG:FFC:  Reusing element from cache\n",
      "DEBUG:FFC:  Reusing element from cache\n",
      "DEBUG:FFC:  Reusing element from cache\n",
      "DEBUG:FFC:  Reusing element from cache\n",
      "DEBUG:FFC:  Reusing element from cache\n",
      "DEBUG:FFC:  Reusing element from cache\n",
      "DEBUG:FFC:  Reusing element from cache\n",
      "DEBUG:FFC:  Reusing element from cache\n",
      "DEBUG:FFC:  Reusing element from cache\n"
     ]
    },
    {
     "name": "stdout",
     "output_type": "stream",
     "text": [
      "  \n"
     ]
    },
    {
     "name": "stderr",
     "output_type": "stream",
     "text": [
      "INFO:FFC:  \n"
     ]
    },
    {
     "name": "stdout",
     "output_type": "stream",
     "text": [
      "Compiler stage 2 finished in 0.021595 seconds.\n",
      "\n"
     ]
    },
    {
     "name": "stderr",
     "output_type": "stream",
     "text": [
      "INFO:FFC:Compiler stage 2 finished in 0.021595 seconds.\n",
      "\n"
     ]
    },
    {
     "name": "stdout",
     "output_type": "stream",
     "text": [
      "Compiler stage 3: Optimizing intermediate representation\n"
     ]
    },
    {
     "name": "stderr",
     "output_type": "stream",
     "text": [
      "INFO:FFC:Compiler stage 3: Optimizing intermediate representation\n"
     ]
    },
    {
     "name": "stdout",
     "output_type": "stream",
     "text": [
      "--------------------------------------------------------\n"
     ]
    },
    {
     "name": "stderr",
     "output_type": "stream",
     "text": [
      "INFO:FFC:--------------------------------------------------------\n"
     ]
    },
    {
     "name": "stdout",
     "output_type": "stream",
     "text": [
      "  Skipping optimizations, add -O to optimize\n"
     ]
    },
    {
     "name": "stderr",
     "output_type": "stream",
     "text": [
      "INFO:FFC:  Skipping optimizations, add -O to optimize\n"
     ]
    },
    {
     "name": "stdout",
     "output_type": "stream",
     "text": [
      "  \n"
     ]
    },
    {
     "name": "stderr",
     "output_type": "stream",
     "text": [
      "INFO:FFC:  \n"
     ]
    },
    {
     "name": "stdout",
     "output_type": "stream",
     "text": [
      "Compiler stage 3 finished in 0.00316 seconds.\n",
      "\n"
     ]
    },
    {
     "name": "stderr",
     "output_type": "stream",
     "text": [
      "INFO:FFC:Compiler stage 3 finished in 0.00316 seconds.\n",
      "\n",
      "DEBUG:FFC:Removing unused variable: circumradius\n",
      "DEBUG:FFC:Removing unused variable: v0v1\n",
      "DEBUG:FFC:Removing unused variable: v0v2\n",
      "DEBUG:FFC:Removing unused variable: v1v2\n",
      "DEBUG:FFC:Removing unused variable: volume\n"
     ]
    },
    {
     "name": "stdout",
     "output_type": "stream",
     "text": [
      "Compiler stage 4 finished in 0.00496101 seconds.\n",
      "\n"
     ]
    },
    {
     "name": "stderr",
     "output_type": "stream",
     "text": [
      "INFO:FFC:Compiler stage 4 finished in 0.00496101 seconds.\n",
      "\n"
     ]
    },
    {
     "name": "stdout",
     "output_type": "stream",
     "text": [
      "\u001b[1;37;32mFFC finished in 0.050782 seconds.\u001b[0m\n"
     ]
    },
    {
     "name": "stderr",
     "output_type": "stream",
     "text": [
      "INFO:FFC:\u001b[1;37;32mFFC finished in 0.050782 seconds.\u001b[0m\n",
      "pyop2:INFO   Compiling wrapper...\n",
      "INFO:pyop2:  Compiling wrapper...\n",
      "pyop2:INFO   Compiling wrapper...done\n",
      "INFO:pyop2:  Compiling wrapper...done\n",
      "pyop2:INFO   Compiling wrapper...\n",
      "INFO:pyop2:  Compiling wrapper...\n",
      "pyop2:INFO   Compiling wrapper...done\n",
      "INFO:pyop2:  Compiling wrapper...done\n",
      "pyop2:INFO   Compiling wrapper...\n",
      "INFO:pyop2:  Compiling wrapper...\n",
      "pyop2:INFO   Compiling wrapper...done\n",
      "INFO:pyop2:  Compiling wrapper...done\n",
      "pyop2:INFO Solving linear variational problem...done\n",
      "INFO:pyop2:Solving linear variational problem...done\n"
     ]
    }
   ],
   "source": [
    "solve(a == L, u, bcs)"
   ]
  },
  {
   "cell_type": "code",
   "execution_count": 44,
   "metadata": {
    "collapsed": true
   },
   "outputs": [],
   "source": [
    "File(\"fire_15.pvd\") << u"
   ]
  },
  {
   "cell_type": "code",
   "execution_count": null,
   "metadata": {
    "collapsed": true
   },
   "outputs": [],
   "source": []
  },
  {
   "cell_type": "code",
   "execution_count": null,
   "metadata": {
    "collapsed": true
   },
   "outputs": [],
   "source": []
  },
  {
   "cell_type": "code",
   "execution_count": null,
   "metadata": {
    "collapsed": true
   },
   "outputs": [],
   "source": []
  }
 ],
 "metadata": {
  "kernelspec": {
   "display_name": "Python 2",
   "language": "python",
   "name": "python2"
  },
  "language_info": {
   "codemirror_mode": {
    "name": "ipython",
    "version": 2
   },
   "file_extension": ".py",
   "mimetype": "text/x-python",
   "name": "python",
   "nbconvert_exporter": "python",
   "pygments_lexer": "ipython2",
   "version": "2.7.10"
  }
 },
 "nbformat": 4,
 "nbformat_minor": 0
}
