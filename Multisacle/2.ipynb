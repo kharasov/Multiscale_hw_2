{
 "cells": [
  {
   "cell_type": "code",
   "execution_count": 1,
   "metadata": {
    "collapsed": true
   },
   "outputs": [],
   "source": [
    "from firedrake import *         \n",
    "mesh = UnitSquareMesh(200, 200)"
   ]
  },
  {
   "cell_type": "code",
   "execution_count": 2,
   "metadata": {
    "collapsed": true
   },
   "outputs": [],
   "source": [
    "V = FunctionSpace(mesh, \"CG\", 1)"
   ]
  },
  {
   "cell_type": "code",
   "execution_count": 3,
   "metadata": {
    "collapsed": true
   },
   "outputs": [],
   "source": [
    "u = TrialFunction(V)\n",
    "v = TestFunction(V)"
   ]
  },
  {
   "cell_type": "code",
   "execution_count": 4,
   "metadata": {
    "collapsed": false
   },
   "outputs": [
    {
     "data": {
      "image/png": "[encoded data removed]",
      "text/latex": [
       "${w_h^4}$"
      ],
      "text/plain": [
       "Coefficient(FiniteElement('Lagrange', Domain(Coefficient(VectorElement('Lagrange', Domain(Cell('triangle', 2), label=None, data='<data with id 139797052504336>'), 1, dim=2, quad_scheme=None), 1)), 1, quad_scheme=None), 4)"
      ]
     },
     "execution_count": 4,
     "metadata": {},
     "output_type": "execute_result"
    }
   ],
   "source": [
    "f = Function(V)\n",
    "f.interpolate(Expression(\"exp(-20*((x[0]-0.5)*(x[0]-0.5)-(x[1]-0.5)*(x[1]-0.5)))\"))"
   ]
  },
  {
   "cell_type": "code",
   "execution_count": 5,
   "metadata": {
    "collapsed": false
   },
   "outputs": [
    {
     "data": {
      "image/png": "[encoded data removed]",
      "text/latex": [
       "${w_h^5}$"
      ],
      "text/plain": [
       "Coefficient(FiniteElement('Lagrange', Domain(Coefficient(VectorElement('Lagrange', Domain(Cell('triangle', 2), label=None, data='<data with id 139797052504336>'), 1, dim=2, quad_scheme=None), 1)), 1, quad_scheme=None), 5)"
      ]
     },
     "execution_count": 5,
     "metadata": {},
     "output_type": "execute_result"
    }
   ],
   "source": [
    "c = Function(V)\n",
    "c.interpolate(Expression(\"pow(1/pow((1.1 + cos(2*pi*x[0]/0.001)),2)+1/pow((1.1 + cos(2*pi*x[1]/0.002)),2),-0.5)\"))"
   ]
  },
  {
   "cell_type": "code",
   "execution_count": 6,
   "metadata": {
    "collapsed": false
   },
   "outputs": [],
   "source": [
    "a = c * dot(grad(u),grad(v)) * dx\n",
    "L = f * v * dx\n"
   ]
  },
  {
   "cell_type": "code",
   "execution_count": 7,
   "metadata": {
    "collapsed": true
   },
   "outputs": [],
   "source": [
    "bc1 = DirichletBC(V, Expression((\"0.0\")), 1)\n",
    "bc2 = DirichletBC(V, Expression((\"0.0\")), 2)\n",
    "bc3 = DirichletBC(V, Expression((\"0.0\")), 3)\n",
    "bc4 = DirichletBC(V, Expression((\"0.0\")), 4)\n",
    "bcs=[bc1, bc2, bc3, bc4]"
   ]
  },
  {
   "cell_type": "code",
   "execution_count": 8,
   "metadata": {
    "collapsed": true
   },
   "outputs": [],
   "source": [
    "u = Function(V)"
   ]
  },
  {
   "cell_type": "code",
   "execution_count": 9,
   "metadata": {
    "collapsed": false
   },
   "outputs": [
    {
     "name": "stderr",
     "output_type": "stream",
     "text": [
      "pyop2:INFO Solving linear variational problem...\n",
      "INFO:pyop2:Solving linear variational problem...\n",
      "pyop2:INFO Solving linear variational problem...done\n",
      "INFO:pyop2:Solving linear variational problem...done\n"
     ]
    }
   ],
   "source": [
    "solve(a == L, u, bcs)"
   ]
  },
  {
   "cell_type": "code",
   "execution_count": 11,
   "metadata": {
    "collapsed": true
   },
   "outputs": [],
   "source": [
    "File(\"fire_23.pvd\") << u"
   ]
  },
  {
   "cell_type": "code",
   "execution_count": null,
   "metadata": {
    "collapsed": true
   },
   "outputs": [],
   "source": []
  },
  {
   "cell_type": "code",
   "execution_count": null,
   "metadata": {
    "collapsed": true
   },
   "outputs": [],
   "source": []
  },
  {
   "cell_type": "code",
   "execution_count": null,
   "metadata": {
    "collapsed": true
   },
   "outputs": [],
   "source": []
  }
 ],
 "metadata": {
  "kernelspec": {
   "display_name": "Python 2",
   "language": "python",
   "name": "python2"
  },
  "language_info": {
   "codemirror_mode": {
    "name": "ipython",
    "version": 2
   },
   "file_extension": ".py",
   "mimetype": "text/x-python",
   "name": "python",
   "nbconvert_exporter": "python",
   "pygments_lexer": "ipython2",
   "version": "2.7.10"
  }
 },
 "nbformat": 4,
 "nbformat_minor": 0
}
